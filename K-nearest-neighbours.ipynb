{
 "cells": [
  {
   "cell_type": "code",
   "execution_count": 1,
   "metadata": {},
   "outputs": [],
   "source": [
    "points = {0:[(1,12),(2,5),(3,6),(3,10),(3.5,8),(2,11),(2,9),(1,7)], \n",
    "              1:[(5,3),(3,2),(1.5,9),(7,2),(6,1),(3.8,1),(5.6,4),(4,2),(2,5)]} \n",
    "    # testing point p(x,y) \n",
    "p = (2.5,7) \n",
    "  \n",
    "    # Number of neighbours  \n",
    "k = 3"
   ]
  },
  {
   "cell_type": "code",
   "execution_count": 2,
   "metadata": {},
   "outputs": [
    {
     "data": {
      "text/plain": [
       "{0: [(1, 12), (2, 5), (3, 6), (3, 10), (3.5, 8), (2, 11), (2, 9), (1, 7)],\n",
       " 1: [(5, 3),\n",
       "  (3, 2),\n",
       "  (1.5, 9),\n",
       "  (7, 2),\n",
       "  (6, 1),\n",
       "  (3.8, 1),\n",
       "  (5.6, 4),\n",
       "  (4, 2),\n",
       "  (2, 5)]}"
      ]
     },
     "execution_count": 2,
     "metadata": {},
     "output_type": "execute_result"
    }
   ],
   "source": [
    "points\n"
   ]
  },
  {
   "cell_type": "code",
   "execution_count": 3,
   "metadata": {},
   "outputs": [],
   "source": [
    "import math;"
   ]
  },
  {
   "cell_type": "code",
   "execution_count": 16,
   "metadata": {},
   "outputs": [
    {
     "name": "stdout",
     "output_type": "stream",
     "text": [
      "[(5.220153254455275, 0), (2.0615528128088303, 0), (1.118033988749895, 0), (3.0413812651491097, 0), (1.4142135623730951, 0), (4.031128874149275, 0), (2.0615528128088303, 0), (1.5, 0), (4.716990566028302, 1), (5.024937810560445, 1), (2.23606797749979, 1), (6.726812023536855, 1), (6.946221994724902, 1), (6.139218191268331, 1), (4.313930922024598, 1), (5.220153254455275, 1), (2.0615528128088303, 1)]\n",
      "[(1.118033988749895, 0), (1.4142135623730951, 0), (1.5, 0), (2.0615528128088303, 0), (2.0615528128088303, 0), (2.0615528128088303, 1), (2.23606797749979, 1), (3.0413812651491097, 0), (4.031128874149275, 0), (4.313930922024598, 1), (4.716990566028302, 1), (5.024937810560445, 1), (5.220153254455275, 0), (5.220153254455275, 1), (6.139218191268331, 1), (6.726812023536855, 1), (6.946221994724902, 1)]\n",
      "label is 0\n"
     ]
    }
   ],
   "source": [
    "distance_list = [];\n",
    "for label in points:\n",
    "    for point in points[label]:\n",
    "        distance = math.sqrt(math.pow((p[0]-point[0]),2) + math.pow((p[1]-point[1]),2));\n",
    "        #print(distance)\n",
    "        distance_list.append((distance,label));\n",
    "        #print(distance_list)\n",
    "print(distance_list)        \n",
    "distance_list.sort();\n",
    "print(distance_list);\n",
    "for i in range(k):\n",
    "    count_of_0 = 0;\n",
    "    count_of_1 =0;\n",
    "    if distance_list[k][1]==0:\n",
    "        count_of_0+=1;\n",
    "    else:\n",
    "        count_of_1+=1;\n",
    "if count_of_0>count_of_1:\n",
    "    print(\"label is 0\")\n",
    "else:\n",
    "    print(\"label is 1\")\n",
    "                             "
   ]
  },
  {
   "cell_type": "code",
   "execution_count": null,
   "metadata": {},
   "outputs": [],
   "source": []
  }
 ],
 "metadata": {
  "kernelspec": {
   "display_name": "Python 3",
   "language": "python",
   "name": "python3"
  },
  "language_info": {
   "codemirror_mode": {
    "name": "ipython",
    "version": 3
   },
   "file_extension": ".py",
   "mimetype": "text/x-python",
   "name": "python",
   "nbconvert_exporter": "python",
   "pygments_lexer": "ipython3",
   "version": "3.7.3"
  }
 },
 "nbformat": 4,
 "nbformat_minor": 2
}
